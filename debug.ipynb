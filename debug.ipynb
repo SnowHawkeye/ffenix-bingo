{
 "cells": [
  {
   "cell_type": "code",
   "execution_count": 73,
   "outputs": [],
   "source": [
    "import pandas as pd\n",
    "from googleapiclient.discovery import build\n",
    "from google_auth_oauthlib.flow import InstalledAppFlow\n",
    "from google.auth.transport.requests import Request\n",
    "from collections import Counter\n",
    "import os\n",
    "import pickle\n",
    "import json"
   ],
   "metadata": {
    "collapsed": false,
    "pycharm": {
     "name": "#%%\n"
    }
   }
  },
  {
   "cell_type": "code",
   "execution_count": null,
   "outputs": [],
   "source": [
    "def load_params():\n",
    "    file = open(\"params.json\")\n",
    "    return json.load(file)\n",
    "\n",
    "\n",
    "def create_service(credentials_path, token_pickle_path):\n",
    "    scopes = ['https://www.googleapis.com/auth/spreadsheets']\n",
    "    credentials = None\n",
    "\n",
    "    if os.path.exists(token_pickle_path):\n",
    "        with open(token_pickle_path, 'rb') as token:\n",
    "            credentials = pickle.load(token)\n",
    "    if not credentials or not credentials.valid:\n",
    "        if credentials and credentials.expired and credentials.refresh_token:\n",
    "            credentials.refresh(Request())\n",
    "        else:\n",
    "            flow = InstalledAppFlow.from_client_secrets_file(credentials_path, scopes)\n",
    "            credentials = flow.run_local_server(port=0)\n",
    "        with open(token_pickle_path, 'wb') as token:\n",
    "            pickle.dump(credentials, token)\n",
    "\n",
    "    service = build('sheets', 'v4', credentials=credentials)\n",
    "    return service\n",
    "\n",
    "\n",
    "def load_data(service, spreadsheet_id, values_range):\n",
    "    sheet = service.spreadsheets()\n",
    "    result_input = sheet.values().get(spreadsheetId=spreadsheet_id, range=values_range).execute()\n",
    "    values_input = result_input.get('values', [])\n",
    "\n",
    "    if not values_input:\n",
    "        print('No data found.')\n",
    "\n",
    "    else:\n",
    "        return values_input\n",
    "\n",
    "\n",
    "def load_data_as_dataframe(service, spreadsheet_id, values_range):\n",
    "    data_raw = load_data(service, spreadsheet_id, values_range)\n",
    "    data = pd.DataFrame(data_raw[1:], columns=data_raw[0])\n",
    "    return data\n",
    "\n",
    "\n",
    "def export_dataframe(service, spreadsheet_id, sheet_name, dataframe):\n",
    "    service.spreadsheets().values().update(\n",
    "        spreadsheetId=spreadsheet_id,\n",
    "        valueInputOption='RAW',\n",
    "        range=sheet_name + '!A1:AA1000',\n",
    "        body=dict(\n",
    "            majorDimension='ROWS',\n",
    "            values=dataframe.T.reset_index().T.values.tolist())\n",
    "    ).execute()\n",
    "    print('Sheet successfully Updated')\n"
   ],
   "metadata": {
    "collapsed": false,
    "pycharm": {
     "name": "#%%\n"
    }
   }
  },
  {
   "cell_type": "code",
   "execution_count": 48,
   "outputs": [],
   "source": [
    "params = load_params()\n",
    "SPREADSHEET_ID = params[\"sheet_id\"]\n",
    "ITEM_REPOSITORY_RANGE = params[\"items_repository_sheet_name\"] + '!A1:AA1000'\n",
    "GRID_MASK_RANGE = params[\"grid_mask_sheet_name\"] + '!A1:AA1000'\n",
    "CREDENTIALS_PATH = params[\"credentials_path\"]\n",
    "TOKEN_PICKLE_PATH = params[\"token_pickle_path\"]"
   ],
   "metadata": {
    "collapsed": false,
    "pycharm": {
     "name": "#%%\n"
    }
   }
  },
  {
   "cell_type": "code",
   "execution_count": 49,
   "outputs": [],
   "source": [
    "sheets_service = create_service(CREDENTIALS_PATH, TOKEN_PICKLE_PATH)\n",
    "items_repository_ = load_data_as_dataframe(sheets_service, SPREADSHEET_ID, ITEM_REPOSITORY_RANGE)\n",
    "grid_mask_ = load_data(sheets_service, SPREADSHEET_ID, GRID_MASK_RANGE)"
   ],
   "metadata": {
    "collapsed": false,
    "pycharm": {
     "name": "#%%\n"
    }
   }
  },
  {
   "cell_type": "code",
   "execution_count": null,
   "outputs": [],
   "source": [
    "def duplicate_sheet(service, spreadsheet_id, source_sheet_id, new_sheet_name):\n",
    "    request_body = {\n",
    "        \"requests\": [\n",
    "            {\n",
    "                \"duplicateSheet\": {\n",
    "                    \"sourceSheetId\":source_sheet_id,\n",
    "                    \"newSheetName\":new_sheet_name,\n",
    "                    \"insertSheetIndex\":0\n",
    "                }\n",
    "            }\n",
    "        ]\n",
    "    }\n",
    "\n",
    "    service.spreadsheets().batchUpdate(\n",
    "        spreadsheetId=spreadsheet_id,\n",
    "        body=request_body\n",
    "    ).execute()"
   ],
   "metadata": {
    "collapsed": false,
    "pycharm": {
     "name": "#%%\n"
    }
   }
  },
  {
   "cell_type": "code",
   "execution_count": null,
   "outputs": [],
   "source": [
    "duplicate_sheet(sheets_service, SPREADSHEET_ID, 922974278, \"Test\")"
   ],
   "metadata": {
    "collapsed": false,
    "pycharm": {
     "name": "#%%\n"
    }
   }
  },
  {
   "cell_type": "code",
   "execution_count": 90,
   "outputs": [],
   "source": [
    "def make_item_pool(occurrences, items_repository):\n",
    "    repo = items_repository_.replace(\"\", float(\"NaN\"))\n",
    "    pool = dict()\n",
    "    for category in occurrences.keys():\n",
    "        pool[category] = list(\n",
    "            repo.dropna(subset=[category])[category] # remove empty values\n",
    "                .sample(occurrences[category]) # get as many items as needed for the category\n",
    "        )\n",
    "\n",
    "    return pool\n",
    "\n",
    "def make_grid_from_mask(\n",
    "        service,\n",
    "        spreadsheet_id,\n",
    "        items_repository_sheet_name,\n",
    "        mask_sheet_id,\n",
    "        grid_sheet_name,\n",
    "):\n",
    "    # Load data from API\n",
    "    duplicate_sheet(service, spreadsheet_id, mask_sheet_id, grid_sheet_name)\n",
    "    grid_mask = load_data(service, spreadsheet_id, values_range=grid_sheet_name + '!A1:AA1000')\n",
    "    items_repository = load_data_as_dataframe(service, spreadsheet_id,\n",
    "                                              values_range=items_repository_sheet_name + '!A1:AA1000')\n",
    "\n",
    "    # Prepare a pool of items to avoid duplicates\n",
    "    flat_grid_mask = [cell for row in grid_mask for cell in row]\n",
    "    category_occurrences = Counter(flat_grid_mask)\n",
    "    pool = make_item_pool(category_occurrences, items_repository)\n",
    "\n",
    "    # Create the grid\n",
    "    grid = grid_mask.copy()\n",
    "    for i, row in enumerate(grid_mask):\n",
    "        for j, category in enumerate(row):\n",
    "            grid[i][j] = pool[category].pop()\n",
    "\n",
    "    # Update contents in spreadsheet\n",
    "    request_body = { \"values\" : grid }\n",
    "\n",
    "    request = service.spreadsheets().values().update(\n",
    "        spreadsheetId=spreadsheet_id,\n",
    "        range=grid_sheet_name + '!A1:AA1000',\n",
    "        valueInputOption='RAW',\n",
    "        body=request_body)\n",
    "    request.execute()\n",
    "\n",
    "    return grid"
   ],
   "metadata": {
    "collapsed": false,
    "pycharm": {
     "name": "#%%\n"
    }
   }
  },
  {
   "cell_type": "code",
   "execution_count": 92,
   "outputs": [
    {
     "data": {
      "text/plain": "[['Combat 2', 'Spend 10k gils teleporting around', 'Combat 6'],\n ['Glamour 9', 'Get a purple parse in sastasha', 'Combat 1'],\n ['Craft a minion and sell it on the MB ', 'Glamour 2', 'Trading 2']]"
     },
     "execution_count": 92,
     "metadata": {},
     "output_type": "execute_result"
    }
   ],
   "source": [
    "make_grid_from_mask(\n",
    "    service = sheets_service,\n",
    "    spreadsheet_id=SPREADSHEET_ID,\n",
    "    items_repository_sheet_name=\"Items\",\n",
    "    mask_sheet_id=922974278,\n",
    "    grid_sheet_name=\"Test\",\n",
    ")"
   ],
   "metadata": {
    "collapsed": false,
    "pycharm": {
     "name": "#%%\n"
    }
   }
  }
 ],
 "metadata": {
  "kernelspec": {
   "display_name": "Python 3",
   "language": "python",
   "name": "python3"
  },
  "language_info": {
   "codemirror_mode": {
    "name": "ipython",
    "version": 2
   },
   "file_extension": ".py",
   "mimetype": "text/x-python",
   "name": "python",
   "nbconvert_exporter": "python",
   "pygments_lexer": "ipython2",
   "version": "2.7.6"
  }
 },
 "nbformat": 4,
 "nbformat_minor": 0
}